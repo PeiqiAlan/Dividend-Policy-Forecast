{
 "cells": [
  {
   "cell_type": "code",
   "execution_count": null,
   "id": "fd6ccf23",
   "metadata": {},
   "outputs": [],
   "source": [
    "# In order to load environment variables, import these 2 libraries:\n",
    "import os\n",
    "from dotenv import load_dotenv"
   ]
  },
  {
   "cell_type": "code",
   "execution_count": null,
   "id": "1ada2878",
   "metadata": {},
   "outputs": [],
   "source": [
    "# Load your environment variables\n",
    "load_dotenv('_.env')  # Load environment variables from the file '.env'\n",
    "API_KEY_FMP = os.environ.get('API_KEY_FMP')  # Retrieve the value of the environment variable 'API_KEY_FMP'   \n",
    "API_KEY_FRED = os.environ.get('API_KEY_FRED')  # Retrieve the value of the environment variable 'API_KEY_FRED'"
   ]
  },
  {
   "cell_type": "code",
   "execution_count": null,
   "id": "3b6eb53b",
   "metadata": {},
   "outputs": [],
   "source": [
    "# Import the requests library\n",
    "import requests\n",
    "\n",
    "# Construct your API request endpoint url\n",
    "BASE_URL = 'https://financialmodelingprep.com/api/v3'\n",
    "company_tick = \"AAPL\"\n",
    "endpoint_url_dividend = f\"{BASE_URL}/historical-price-full/stock_dividend/{company_tick}?apikey={API_KEY_FMP}\"\n",
    "\n",
    "endpoint_url_ratios = f\"{BASE_URL}/key-metrics/{company_tick}?apikey={API_KEY_FMP}\""
   ]
  },
  {
   "cell_type": "code",
   "execution_count": null,
   "id": "ce529ed7",
   "metadata": {},
   "outputs": [],
   "source": [
    "# Send an HTTP GET request to the endpoint URL and store the response\n",
    "response = requests.get(endpoint_url_dividend)\n",
    "if response.status_code == 429:\n",
    "    print(\"FMP API limit reached\")\n",
    "print(type(response))"
   ]
  },
  {
   "cell_type": "code",
   "execution_count": null,
   "id": "c922da38",
   "metadata": {},
   "outputs": [],
   "source": [
    "# Convert json to dictionary object and then a Pandas Dataframe\n",
    "import pandas as pd\n",
    "response_dict = response.json()\n",
    "dividends = pd.DataFrame(response_dict['historical'])"
   ]
  },
  {
   "cell_type": "code",
   "execution_count": null,
   "id": "b4785394",
   "metadata": {},
   "outputs": [],
   "source": [
    "print(dividends) "
   ]
  },
  {
   "cell_type": "code",
   "execution_count": null,
   "id": "2570840f",
   "metadata": {},
   "outputs": [],
   "source": [
    "print(response_dict)"
   ]
  },
  {
   "cell_type": "code",
   "execution_count": null,
   "id": "1c55cd5c",
   "metadata": {},
   "outputs": [],
   "source": [
    "#design preferred date range  \n",
    "\n",
    "start_year = 2013  \n",
    "end_year = 2022  \n",
    "\n",
    "end_year = end_year + 1  \n",
    "\n",
    "list(range(start_year, end_year))"
   ]
  },
  {
   "cell_type": "code",
   "execution_count": null,
   "id": "3841eda6",
   "metadata": {},
   "outputs": [],
   "source": [
    "# Data Transformation\n",
    "if dividends.shape == (0, 0):  # Handle the case where the company never issued any dividend in the past\n",
    "    dividends = pd.DataFrame({\n",
    "        \"year\": list(range(start_year - 1, end_year + 1)),\n",
    "        \"adjDividend\": [0.0] * len(list(range(start_year - 1, end_year + 1)))  # We are obtaining 2 more years' data\n",
    "    })\n",
    "else:\n",
    "    # Extract year data from the date column\n",
    "    dividends['year'] = pd.to_datetime(dividends['date']).dt.year\n",
    "    # Aggregate the dividend paid by year\n",
    "    dividends = dividends.groupby(\"year\").agg({\"adjDividend\": \"sum\"}).reset_index()\n",
    "    # Create a new DataFrame with all years from start to end - So that we don't omit years without dividends\n",
    "    all_years = pd.DataFrame({'year': list(range(start_year - 1, end_year + 1))})\n",
    "    # Merge the two DataFrames on the year column and fill missing values with 0.0\n",
    "    dividends = all_years.merge(dividends, on='year', how='left').fillna(0.0)"
   ]
  },
  {
   "cell_type": "code",
   "execution_count": null,
   "id": "0f194898",
   "metadata": {
    "scrolled": true
   },
   "outputs": [],
   "source": [
    "# Let's create our target variable\n",
    "import numpy as np\n",
    "\n",
    "dividends['next_year_dividend'] = dividends['adjDividend'].shift(-1)\n",
    "\n",
    "conditions = [\n",
    "    dividends['adjDividend'] <= dividends['next_year_dividend'],\n",
    "    dividends['adjDividend'] > dividends['next_year_dividend']\n",
    "]\n",
    "\n",
    "choices = ['constant/increased', 'decreased']      \n",
    "\n",
    "# Create the target column 'dps_change' based on the conditions\n",
    "dividends['dps_change_next_year'] = np.select(conditions, choices, default=np.nan)"
   ]
  },
  {
   "cell_type": "code",
   "execution_count": null,
   "id": "f555ad3f",
   "metadata": {},
   "outputs": [],
   "source": [
    "# We can also create a predictor here - dps change from last year\n",
    "dividends['last_year_dividend'] = dividends['adjDividend'].shift(1)\n",
    "dividends['dps_growth'] = dividends['adjDividend'] - dividends['last_year_dividend']"
   ]
  },
  {
   "cell_type": "code",
   "execution_count": null,
   "id": "e49f4d43",
   "metadata": {
    "scrolled": true
   },
   "outputs": [],
   "source": [
    "print(dividends)"
   ]
  },
  {
   "cell_type": "code",
   "execution_count": null,
   "id": "f87d893a",
   "metadata": {},
   "outputs": [],
   "source": [
    "# Another predictor that we can create is dividend change as a percentage\n",
    "dividends['dps_growth_rate'] = np.where(\n",
    "    (dividends['last_year_dividend'] == 0) & (dividends['adjDividend'] == 0),\n",
    "    0,  # If both are 0 then change is 0\n",
    "    np.where(\n",
    "        dividends['last_year_dividend'] != 0,\n",
    "        ((dividends['adjDividend'] / dividends['last_year_dividend']) - 1) * 100,\n",
    "        999  # If last year dividend is 0 then return 999\n",
    "    )\n",
    ")"
   ]
  },
  {
   "cell_type": "code",
   "execution_count": null,
   "id": "65fdc524",
   "metadata": {
    "scrolled": true
   },
   "outputs": [],
   "source": [
    "# Remove the first last year since they will be NaN\n",
    "dividends = dividends.loc[(dividends['year'] >= start_year) & (dividends['year'] <= end_year - 1)]\n",
    "# Only keep the columns that we need\n",
    "dividends = dividends[[\"year\", \"adjDividend\", \"dps_growth\", \"dps_growth_rate\", \"dps_change_next_year\"]]"
   ]
  },
  {
   "cell_type": "code",
   "execution_count": null,
   "id": "d6756408",
   "metadata": {},
   "outputs": [],
   "source": [
    "print(dividends)"
   ]
  },
  {
   "cell_type": "code",
   "execution_count": null,
   "id": "f4c7f702",
   "metadata": {},
   "outputs": [],
   "source": [
    "# Engineer some other predictors\n",
    "predictors = pd.DataFrame({\"year\": list(range(start_year - 1, end_year))})  # We include one more year before\n",
    "                                                                            # the first year to calculate changes"
   ]
  },
  {
   "cell_type": "code",
   "execution_count": null,
   "id": "1d4c7f2d",
   "metadata": {},
   "outputs": [],
   "source": [
    "print(predictors)"
   ]
  },
  {
   "cell_type": "code",
   "execution_count": null,
   "id": "e14908f7",
   "metadata": {},
   "outputs": [],
   "source": [
    "# Let's include the Company's Industry and sector data\n",
    "import yfinance as yf\n",
    "company_data_raw = yf.Ticker(company_tick)\n",
    "company_data = company_data_raw.info\n",
    "predictors[\"industry\"] = company_data['industry']\n",
    "predictors[\"sector\"] = company_data['sector']"
   ]
  },
  {
   "cell_type": "code",
   "execution_count": null,
   "id": "4eb3c269",
   "metadata": {},
   "outputs": [],
   "source": [
    "print(predictors)"
   ]
  },
  {
   "cell_type": "code",
   "execution_count": null,
   "id": "b0ca3ca2",
   "metadata": {
    "scrolled": false
   },
   "outputs": [],
   "source": [
    "# Let's add more Predictors -- dividend payout ratio, return on equity, board composition(gender and title) and dividend yield\n",
    "\n",
    "# Construct the API request endpoint url\n",
    "BASE_URL = 'https://financialmodelingprep.com/api/v3'\n",
    "company_tick = \"AAPL\"\n",
    "\n",
    "endpoint_ratios = f\"{BASE_URL}/ratios/{company_tick}?apikey={API_KEY_FMP}\"    \n",
    "endpoint_ceo = f\"{BASE_URL}/key-executives/{company_tick}?apikey={API_KEY_FMP}\"    \n",
    "endpoint_yield  = f\"{BASE_URL}/key-metrics/{company_tick}?apikey={API_KEY_FMP}\"  "
   ]
  },
  {
   "cell_type": "code",
   "execution_count": null,
   "id": "bc5e32b0",
   "metadata": {},
   "outputs": [],
   "source": [
    "# Send an HTTP GET request to the endpoint URL and store the response\n",
    "end_response = requests.get(endpoint_ratios)\n",
    "if end_response.status_code == 429:\n",
    "    print(\"FMP API limit reached\")\n",
    "print(type(end_response))  \n",
    "  \n",
    "end_response1 = requests.get(endpoint_ceo)\n",
    "if end_response1.status_code == 429:\n",
    "    print(\"FMP API limit reached\")\n",
    "print(type(end_response1))    \n",
    "\n",
    "end_response2 = requests.get(endpoint_yield)  \n",
    "if end_response1.status_code == 429:\n",
    "    print(\"FMP API limit reached\")\n",
    "print(type(end_response2))      \n",
    "\n",
    "end_response3 = requests.get(endpoint_yield)  \n",
    "if end_response1.status_code == 429:\n",
    "    print(\"FMP API limit reached\")\n",
    "print(type(end_response2))     "
   ]
  },
  {
   "cell_type": "code",
   "execution_count": null,
   "id": "07bae817",
   "metadata": {},
   "outputs": [],
   "source": [
    "# Convert json to dictionary object and then a Pandas Dataframe\n",
    "import pandas as pd\n",
    "response_dicts = end_response.json()  \n",
    "payout =  pd.DataFrame(response_dicts)  \n",
    "\n",
    "response_dicts2 = end_response1.json()  \n",
    "board_compose = pd.DataFrame(response_dicts2)    \n",
    "\n",
    "response_dicts3 = end_response2.json()  \n",
    "div_yield = pd.DataFrame(response_dicts3)      \n",
    "\n",
    "response_dicts4 = end_response3.json()  \n",
    "roe = pd.DataFrame(response_dicts4)      "
   ]
  },
  {
   "cell_type": "code",
   "execution_count": null,
   "id": "12bebe86",
   "metadata": {
    "scrolled": false
   },
   "outputs": [],
   "source": [
    "print(payout)"
   ]
  },
  {
   "cell_type": "code",
   "execution_count": null,
   "id": "6071220a",
   "metadata": {
    "scrolled": true
   },
   "outputs": [],
   "source": [
    "print(board_compose)"
   ]
  },
  {
   "cell_type": "code",
   "execution_count": null,
   "id": "57b5a930",
   "metadata": {},
   "outputs": [],
   "source": [
    "print(div_yield)"
   ]
  },
  {
   "cell_type": "code",
   "execution_count": null,
   "id": "e2c3edf5",
   "metadata": {},
   "outputs": [],
   "source": [
    "print(roe)"
   ]
  },
  {
   "cell_type": "code",
   "execution_count": null,
   "id": "07d6531e",
   "metadata": {},
   "outputs": [],
   "source": [
    "predictors['dividendPayoutRatio'] = payout['dividendPayoutRatio']  \n",
    "predictors['boardtitle'] = board_compose['title']  \n",
    "predictors['boardgender'] = board_compose['gender']    \n",
    "predictors['dividendYield'] = div_yield['dividendYield']  \n",
    "predictors['roe'] = div_yield['roe']"
   ]
  },
  {
   "cell_type": "code",
   "execution_count": null,
   "id": "17d58730",
   "metadata": {},
   "outputs": [],
   "source": [
    "print(predictors)"
   ]
  },
  {
   "cell_type": "code",
   "execution_count": null,
   "id": "d74f76aa",
   "metadata": {},
   "outputs": [],
   "source": [
    "def calculate_change(df, feature_name):\n",
    "    percentage_change = df[feature_name].pct_change() * 100\n",
    "    # Create new column name\n",
    "    new_col_name = f\"{feature_name}_percentage_change\"\n",
    "    # Find the index position of the original predictor column\n",
    "    original_col_position = df.columns.get_loc(feature_name)\n",
    "    # Insert the new column right after the original predictor column\n",
    "    df.insert(original_col_position + 1, new_col_name, percentage_change)"
   ]
  },
  {
   "cell_type": "code",
   "execution_count": null,
   "id": "014b929e",
   "metadata": {},
   "outputs": [],
   "source": [
    "feature_list = list(predictors.columns)\n",
    "feature_list.remove('year')\n",
    "feature_list.remove('industry')\n",
    "feature_list.remove('sector')  \n",
    "feature_list.remove('boardtitle')  \n",
    "feature_list.remove('boardgender')"
   ]
  },
  {
   "cell_type": "code",
   "execution_count": null,
   "id": "f7e2c2cf",
   "metadata": {},
   "outputs": [],
   "source": [
    "for feature in feature_list:\n",
    "    calculate_change(predictors, feature)\n",
    "\n",
    "# Replacing inf and NaN values\n",
    "predictors.replace([float('inf'), float('-inf')], 999, inplace=True)\n",
    "predictors.fillna(0, inplace=True)\n",
    "\n",
    "# Combine dividend data with other predictors\n",
    "dataset = pd.merge(dividends, predictors, left_on='year', right_on='year', how='left')\n",
    "\n",
    "# Move target to the end of the dataset for good practice\n",
    "feature_list = list(dataset.columns)\n",
    "feature_list.append('dps_change_next_year')\n",
    "feature_list.remove('dps_change_next_year')\n",
    "dataset = dataset[feature_list]\n",
    "\n",
    "# Return the modified dataset\n",
    "dataset"
   ]
  },
  {
   "cell_type": "code",
   "execution_count": null,
   "id": "9c2503e4",
   "metadata": {},
   "outputs": [],
   "source": []
  }
 ],
 "metadata": {
  "kernelspec": {
   "display_name": "Python 3 (ipykernel)",
   "language": "python",
   "name": "python3"
  },
  "language_info": {
   "codemirror_mode": {
    "name": "ipython",
    "version": 3
   },
   "file_extension": ".py",
   "mimetype": "text/x-python",
   "name": "python",
   "nbconvert_exporter": "python",
   "pygments_lexer": "ipython3",
   "version": "3.11.5"
  }
 },
 "nbformat": 4,
 "nbformat_minor": 5
}
